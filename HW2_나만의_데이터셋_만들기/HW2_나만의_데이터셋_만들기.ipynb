{
  "nbformat": 4,
  "nbformat_minor": 0,
  "metadata": {
    "colab": {
      "name": "HW2_이세린",
      "provenance": [],
      "collapsed_sections": []
    },
    "kernelspec": {
      "name": "python3",
      "display_name": "Python 3"
    },
    "language_info": {
      "name": "python"
    }
  },
  "cells": [
    {
      "cell_type": "markdown",
      "metadata": {
        "id": "g-2tDfmFU-Y5"
      },
      "source": [
        "## 2-1. 네이버 영화 리뷰 크롤링\n",
        "1. 파이썬 표준 라이브러리 csv를 사용\n",
        "2. 약 1000건의 데이터를 수집하기 위하여 `review_list`의 길이가 1001보다 작은 동안 크롤링을 수행\n",
        "3. 수집한 데이터의 `sentence`의 내용이 비어있는 경우, 추가하지 않도록 함\n",
        "4. `sentence`로 받아온 문장 끝의 공백을 미리 처리함(문제 2-3의 조건)\n",
        "5. 크롤링 과정에서 실시간으로 페이지가 갱신되어 앞에서 수집한 데이터가 다음 페이지로 넘어가는 경우, 중복된 데이터가 수집되는 것을 방지하기 위하여 한 페이지씩 건너뛰며 데이터를 수집함\n",
        "\n",
        "\n"
      ]
    },
    {
      "cell_type": "code",
      "metadata": {
        "id": "4Gaeq63kZhNR"
      },
      "source": [
        "import requests\n",
        "from bs4 import BeautifulSoup\n",
        "from time import sleep\n",
        "import csv\n",
        "\n",
        "\n",
        "page = 1\n",
        "review_list = [[\"movie\", \"sentence\", \"score\"]]\n",
        "\n",
        "while len(review_list) < 1001:\n",
        "    response = requests.get(\"https://movie.naver.com/movie/point/af/list.naver?&page=\" + str(page))\n",
        "    soup = BeautifulSoup(\n",
        "        response.text,\n",
        "        'html.parser'\n",
        "    )\n",
        "\n",
        "    reviews = soup.find('tbody').find_all('tr')\n",
        "    for review in reviews:\n",
        "         movie = review.find('td', {'class': 'title'}).find('a', {'class': 'movie color_b'}).text\n",
        "         sentence = review.find('td', {'class': 'title'}).text.split('\\n')[5]\n",
        "         score = review.find('td', {'class': 'title'}).find('div', {'class': 'list_netizen_score'}).find('em').text\n",
        "\n",
        "         if sentence == '':\n",
        "             pass\n",
        "         else:\n",
        "             sentence = sentence.replace(\",\", \"\")\n",
        "             sentence = sentence[:-1]\n",
        "             review_list.append([movie, sentence, score])\n",
        "          \n",
        "    page += 2\n",
        "    sleep(0.5)\n",
        "\n",
        "f = open(f'samples.csv','w', encoding='utf-8-sig', newline='')\n",
        "csvWriter = csv.writer(f)\n",
        "for i in review_list: \n",
        "    csvWriter.writerow(i)\n",
        "\n",
        "f.close()"
      ],
      "execution_count": null,
      "outputs": []
    },
    {
      "cell_type": "markdown",
      "metadata": {
        "id": "qMuESzSqzkh1"
      },
      "source": [
        "## 2-2. 네이버 영화 데이터 셋 제작\n",
        "1. `\"samples.csv\"`를 기본 인자로 받아 객체 생성\n",
        "2. 파일 첫 줄의 header를 제거하고, data만을 읽어 `raw_movie_review[0]`이 첫 번째 한줄 평이 나오도록 함\n",
        "3. Indexing 결과값이 `(str, str, int)` 형태의 튜플로 나오도록 함\n",
        "4. `__setitem__()`을 재정의하여 `\"수정 권한이 없습니다.\"` 출력 후, 수정이 불가능하도록 구현\n",
        "5. Index 값이 전체 데이터의 길이를 넘어가는 경우, `IndexError`를 발생하도록 처리함\n",
        "\n",
        "\n",
        "\n",
        "## 2-3. 네이버 영화 학습 데이터 셋 제작\n",
        "1. `RawMoviewReview` 클래스를 상속\n",
        "2. `int`타입의 `score_threadhold`를 받아 생성하도록 함.\n",
        "3. Indexing 결과값이 `(str, bool)` 형태의 튜플로 나오도록 함\n",
        "4. 점수가 `score_threadhold` 이상일 경우 `True`, 미만이면 `False`\n"
      ]
    },
    {
      "cell_type": "code",
      "metadata": {
        "colab": {
          "base_uri": "https://localhost:8080/"
        },
        "id": "iC6XJhqF_Zbq",
        "outputId": "4800a428-8df0-4fd5-a038-d2af890f8130"
      },
      "source": [
        "import csv\n",
        "\n",
        "\n",
        "class RawMovieReview:\n",
        "\n",
        "    def __init__(self, file_name=\"samples.csv\"): \n",
        "        self.__file_name = file_name\n",
        "        with open('samples.csv', newline='', encoding='utf-8-sig') as f:\n",
        "            self.__data = csv.reader(f)\n",
        "            self.__header = next(self.__data)\n",
        "            self.__dataset = [tuple(row) for row in self.__data]\n",
        "    \n",
        "    def __len__(self):\n",
        "        return len(self.__dataset)\n",
        "    \n",
        "    def __getitem__(self, index):\n",
        "        if index > len(self.__dataset):\n",
        "          raise IndexError\n",
        "\n",
        "        return (self.__dataset[index][0], self.__dataset[index][1], int(self.__dataset[index][2]))\n",
        "    \n",
        "    def __setitem__(self, key, value):\n",
        "        return print('수정 권한이 없습니다.')\n",
        "\n",
        "\n",
        "class MovieReview(RawMovieReview):\n",
        "\n",
        "    def __init__(self, file_name, score_threadhold: int):\n",
        "      super().__init__()\n",
        "      self.__score_threadhold = score_threadhold\n",
        "    \n",
        "    def __getitem__(self, index):\n",
        "        if index > super().__len__():\n",
        "          raise IndexError\n",
        "\n",
        "        else:\n",
        "          if int(super().__getitem__(index)[2]) >= self.__score_threadhold:\n",
        "              return (super().__getitem__(index)[1], True)\n",
        "          else:\n",
        "              return (super().__getitem__(index)[1], False)\n",
        "\n",
        "\n",
        "raw_movie_review = RawMovieReview()\n",
        "print(len(raw_movie_review))\n",
        "print(raw_movie_review[0])\n",
        "print(type(raw_movie_review[0]))\n",
        "print(type(raw_movie_review[0][0]), type(raw_movie_review[0][1]), type(raw_movie_review[0][2]))\n",
        "\n",
        "raw_movie_review[0] = \"안뇽\"\n",
        "print(raw_movie_review[0])\n",
        "\n",
        "print()\n",
        "movie_review = MovieReview(raw_movie_review, 5)\n",
        "print(movie_review[0])\n",
        "print(type(movie_review[0]))\n",
        "print(type(movie_review[0][0]), type(movie_review[0][1]))"
      ],
      "execution_count": null,
      "outputs": [
        {
          "output_type": "stream",
          "text": [
            "1005\n",
            "('더 수어사이드 스쿼드', '워너 DC는 절대 영화만들때 간섭하지마라 영화는 무조건 19금으로 만들어라', 8)\n",
            "<class 'tuple'>\n",
            "<class 'str'> <class 'str'> <class 'int'>\n",
            "수정 권한이 없습니다.\n",
            "('더 수어사이드 스쿼드', '워너 DC는 절대 영화만들때 간섭하지마라 영화는 무조건 19금으로 만들어라', 8)\n",
            "\n",
            "('워너 DC는 절대 영화만들때 간섭하지마라 영화는 무조건 19금으로 만들어라', True)\n",
            "<class 'tuple'>\n",
            "<class 'str'> <class 'bool'>\n"
          ],
          "name": "stdout"
        }
      ]
    },
    {
      "cell_type": "markdown",
      "metadata": {
        "id": "dqQ-7nk35Ryo"
      },
      "source": [
        "## 아래의 코드는 위와 동일한 과제에 대하여, pandas 라이브러리를 사용하여 구현한 코드입니다.\n",
        "#### 클래스 구현시, 기본 인자값을 `\"samples_with_pandas.csv\"`로 지정하였음\n",
        "#### 이외의 수행 내용은 같음\n"
      ]
    },
    {
      "cell_type": "code",
      "metadata": {
        "id": "hCFylI4ApxX5"
      },
      "source": [
        "import requests\n",
        "from bs4 import BeautifulSoup\n",
        "from time import sleep\n",
        "import pandas as pd\n",
        "\n",
        "\n",
        "page = 1\n",
        "movie_list = []\n",
        "sentence_list = []\n",
        "score_list = []\n",
        "\n",
        "while len(movie_list) < 1001:\n",
        "    response = requests.get(\"https://movie.naver.com/movie/point/af/list.naver?&page=\" + str(page))\n",
        "    soup = BeautifulSoup(\n",
        "        response.text,\n",
        "        'html.parser'\n",
        "    )\n",
        "\n",
        "    reviews = soup.find('tbody').find_all('tr')\n",
        "    for review in reviews:\n",
        "         movie = review.find('td', {'class': 'title'}).find('a', {'class': 'movie color_b'}).text\n",
        "         sentence = review.find('td', {'class': 'title'}).text.split('\\n')[5]\n",
        "         score = review.find('td', {'class': 'title'}).find('div', {'class': 'list_netizen_score'}).find('em').text\n",
        "\n",
        "         if sentence == '':\n",
        "             pass\n",
        "         else:\n",
        "             sentence = sentence.replace(\",\", \"\")\n",
        "             sentence = sentence[:-1]\n",
        "             movie_list.append(movie)\n",
        "             sentence_list.append(sentence)\n",
        "             score_list.append(score)\n",
        "          \n",
        "    page += 2\n",
        "    sleep(0.5)\n",
        "\n",
        "info = {\"movie\" : movie_list,\"sentence\":sentence_list, \"score\":score_list}\n",
        "movie_review = pd.DataFrame(info)\n",
        "movie_review.set_index('movie', inplace = True )\n",
        "\n",
        "movie_review.to_csv(\"samples_with_pandas.csv\", encoding = \"utf-8-sig\")\n"
      ],
      "execution_count": null,
      "outputs": []
    },
    {
      "cell_type": "code",
      "metadata": {
        "colab": {
          "base_uri": "https://localhost:8080/"
        },
        "id": "prk5ZHr8rDB6",
        "outputId": "866d8706-9325-4fd5-c1d3-66ff9c88332d"
      },
      "source": [
        "import csv\n",
        "import pandas as pd\n",
        "\n",
        "\n",
        "class RawMovieReview:\n",
        "\n",
        "    def __init__(self, file_name=\"samples_with_pandas.csv\"): \n",
        "        self.__file_name = file_name\n",
        "        self.__dataset = pd.read_csv(self.__file_name)\n",
        "\n",
        "    def __len__(self):\n",
        "        return len(self.__dataset)\n",
        "    \n",
        "    def __getitem__(self, index):\n",
        "        if index > len(self.__dataset):\n",
        "          raise IndexError\n",
        "\n",
        "        return tuple(self.__dataset.loc[index])\n",
        "    \n",
        "    def __setitem__(self, key, value):\n",
        "        return print('수정 권한이 없습니다.')\n",
        "\n",
        "\n",
        "class MovieReview(RawMovieReview):\n",
        "\n",
        "    def __init__(self, file_name, score_threadhold: int):\n",
        "      super().__init__()\n",
        "      self.__score_threadhold = score_threadhold\n",
        "    \n",
        "    def __getitem__(self, index):\n",
        "        if index > super().__len__():\n",
        "          raise IndexError\n",
        "\n",
        "        else:\n",
        "          if super().__getitem__(index)[2] >= self.__score_threadhold:\n",
        "              return (super().__getitem__(index)[1], True)\n",
        "          else:\n",
        "              return (super().__getitem__(index)[1], False)\n",
        "\n",
        "\n",
        "raw_movie_review = RawMovieReview()\n",
        "print(len(raw_movie_review))\n",
        "print(raw_movie_review[0])\n",
        "print(type(raw_movie_review[0]))\n",
        "print(type(raw_movie_review[0][0]), type(raw_movie_review[0][1]), type(raw_movie_review[0][2]))\n",
        "\n",
        "raw_movie_review[0] = \"안뇽\"\n",
        "print(raw_movie_review[0])\n",
        "\n",
        "print()\n",
        "movie_review = MovieReview(raw_movie_review, 5)\n",
        "print(movie_review[0])\n",
        "print(type(movie_review[0]))\n",
        "print(type(movie_review[0][0]), type(movie_review[0][1]))"
      ],
      "execution_count": null,
      "outputs": [
        {
          "output_type": "stream",
          "text": [
            "1005\n",
            "('미드소마', '시청각 효과가 볼만했으나 그것 뿐이다. 좋은 평가를 주기엔 부족한 작품. 고어 불쾌한 성적 요소 등 애브젝트 미학의 매력을 살리지도 못했다. 여주인공 대니만큼이나 정신이 불안정하면 감명깊게 볼지도 모르겠다.', 4)\n",
            "<class 'tuple'>\n",
            "<class 'str'> <class 'str'> <class 'numpy.int64'>\n",
            "수정 권한이 없습니다.\n",
            "('미드소마', '시청각 효과가 볼만했으나 그것 뿐이다. 좋은 평가를 주기엔 부족한 작품. 고어 불쾌한 성적 요소 등 애브젝트 미학의 매력을 살리지도 못했다. 여주인공 대니만큼이나 정신이 불안정하면 감명깊게 볼지도 모르겠다.', 4)\n",
            "\n",
            "('시청각 효과가 볼만했으나 그것 뿐이다. 좋은 평가를 주기엔 부족한 작품. 고어 불쾌한 성적 요소 등 애브젝트 미학의 매력을 살리지도 못했다. 여주인공 대니만큼이나 정신이 불안정하면 감명깊게 볼지도 모르겠다.', False)\n",
            "<class 'tuple'>\n",
            "<class 'str'> <class 'bool'>\n"
          ],
          "name": "stdout"
        }
      ]
    }
  ]
}