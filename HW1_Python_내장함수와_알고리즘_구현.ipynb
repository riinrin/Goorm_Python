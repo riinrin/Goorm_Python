{
  "nbformat": 4,
  "nbformat_minor": 0,
  "metadata": {
    "orig_nbformat": 4,
    "language_info": {
      "name": "python",
      "version": "3.7.7",
      "mimetype": "text/x-python",
      "codemirror_mode": {
        "name": "ipython",
        "version": 3
      },
      "pygments_lexer": "ipython3",
      "nbconvert_exporter": "python",
      "file_extension": ".py"
    },
    "kernelspec": {
      "name": "python3",
      "display_name": "Python 3.7.7 64-bit ('NLPassn': conda)"
    },
    "interpreter": {
      "hash": "ade55d4c86be7d50874b83e4277b883dd708f548765dc318ed8eee76ae3e5626"
    },
    "colab": {
      "name": "이세린_HW1. Python 내장함수와 알고리즘 구현.ipynb의 사본",
      "provenance": [],
      "collapsed_sections": []
    }
  },
  "cells": [
    {
      "cell_type": "markdown",
      "metadata": {
        "id": "lh1cyX2mj_4V"
      },
      "source": [
        "# 과제 1. 나만의 python & 알고리즘 함수 만들기\n",
        "## 1. 파이썬 내장함수 만들기\n",
        "Python에는 사용자의 편의를 위해서 여러가지 함수를 내장하고 있다. 다음 사진이 python 내장함수의 목록을 보여준다.\n",
        "\n",
        "<p align=\"center\"><img src=\"https://wikidocs.net/images/page/14598/2-1.png\" width=\"600px\"></p>\n",
        "\n",
        "자세한 내용은 [링크](https://docs.python.org/ko/3/library/functions.html)에서 확인해 볼 수 있으며, 문서 안에서 몇 가지 예시를 제시하고 있다. 다음은 python 공식 문서에서 제시하는 `all` 함수의 예시를 `my_all` 함수로 재작성한 예시이다."
      ]
    },
    {
      "cell_type": "code",
      "metadata": {
        "id": "KtICkC5sj_4X",
        "outputId": "668a4b4a-8e56-42e4-e959-f87fb68ad63b"
      },
      "source": [
        "def my_all(iterable):\n",
        "    for element in iterable:\n",
        "        if not element:\n",
        "            return False\n",
        "    return True\n",
        "\n",
        "test1 = [True, 7 == 4, 3 > 7, False]\n",
        "test2 = [3 < 5, 10 == 10, True, 'something']\n",
        "\n",
        "# Assert 문은 이하의 식의 참인지 검사합니다.\n",
        "assert all(test1) == my_all(test1) == False\n",
        "assert all(test2) == my_all(test2) == True\n",
        "\n",
        "print(\"통과\")"
      ],
      "execution_count": null,
      "outputs": [
        {
          "output_type": "stream",
          "text": [
            "통과\n"
          ],
          "name": "stdout"
        }
      ]
    },
    {
      "cell_type": "markdown",
      "metadata": {
        "id": "Z6GUKRRQj_4Z"
      },
      "source": [
        "아래의 함수들은 자주 사용되는 내장 함수들의 목록이다. 위의 코드 예시와 같이 몇 가지 함수들을 다른 함수를 쓰지 않고 따라 만들어보자. \\\n",
        "(단, 편의를 위해 엄격하게 만들지 않고 test를 통과할 정도만 작성하여도 무방하다.)"
      ]
    },
    {
      "cell_type": "markdown",
      "metadata": {
        "id": "UrC-IOlfj_4Z"
      },
      "source": [
        "### 1-1. abs"
      ]
    },
    {
      "cell_type": "code",
      "metadata": {
        "id": "RCpeIZx8j_4a",
        "colab": {
          "base_uri": "https://localhost:8080/"
        },
        "outputId": "7dbb6445-ccb3-469f-f23a-e33ff1096286"
      },
      "source": [
        "def my_abs(number):\n",
        "    if number < 0:\n",
        "      return number * (-1)\n",
        "    else:\n",
        "      return number\n",
        "\n",
        "test1 = 1.7\n",
        "test2 = -8\n",
        "assert abs(test1) == my_abs(test1)\n",
        "assert abs(test2) == my_abs(test2)\n",
        "print(\"통과\")"
      ],
      "execution_count": null,
      "outputs": [
        {
          "output_type": "stream",
          "text": [
            "통과\n"
          ],
          "name": "stdout"
        }
      ]
    },
    {
      "cell_type": "markdown",
      "metadata": {
        "id": "sBqLryIxj_4a"
      },
      "source": [
        "### 1-2. round"
      ]
    },
    {
      "cell_type": "code",
      "metadata": {
        "id": "xaEfCMwmj_4a",
        "colab": {
          "base_uri": "https://localhost:8080/"
        },
        "outputId": "11e29335-044f-4044-cf0f-63e82f75082f"
      },
      "source": [
        "def my_round(number, ndgits=None):\n",
        "    temp = 0.5\n",
        "    if not ndgits:\n",
        "      if number > 0:\n",
        "        temp += number\n",
        "      else:\n",
        "        temp = -temp + number\n",
        "      return int(temp)\n",
        "    else:\n",
        "      for _ in range(ndgits):\n",
        "        temp *= 0.1\n",
        "      if number > 0:\n",
        "        temp += number \n",
        "      else:\n",
        "        temp = -temp + number\n",
        "\n",
        "      temp_str = str(temp)\n",
        "      for x in range(len(temp_str)):\n",
        "        if temp_str[x] == '.':\n",
        "            temp = temp_str[:x+ndgits+1]\n",
        "\n",
        "      return float(temp)\n",
        "\n",
        "\n",
        "test = 1.74789\n",
        "assert round(test) == my_round(test)\n",
        "assert round(test, 3) == my_round(test, 3)\n",
        "assert round(-test, 2) == my_round(-test, 2)\n",
        "print(\"통과\")"
      ],
      "execution_count": null,
      "outputs": [
        {
          "output_type": "stream",
          "text": [
            "통과\n"
          ],
          "name": "stdout"
        }
      ]
    },
    {
      "cell_type": "markdown",
      "metadata": {
        "id": "PTJk84oPj_4b"
      },
      "source": [
        "### 1-3. any"
      ]
    },
    {
      "cell_type": "code",
      "metadata": {
        "id": "bnBMZp3qj_4b",
        "colab": {
          "base_uri": "https://localhost:8080/"
        },
        "outputId": "0ae9112c-c513-4634-92b1-16b3931f24ce"
      },
      "source": [
        "def my_any(iterable):\n",
        "    for element in iterable:\n",
        "      if element:\n",
        "        return True\n",
        "    return False\n",
        "\n",
        "test1 = [True, 7 == 4, 'Something', False]\n",
        "test2 = [3 > 5, 10 != 10, False, '', None]\n",
        "assert any(test1) == my_any(test1)\n",
        "assert any(test2) == my_any(test2)\n",
        "print(\"통과\")"
      ],
      "execution_count": null,
      "outputs": [
        {
          "output_type": "stream",
          "text": [
            "통과\n"
          ],
          "name": "stdout"
        }
      ]
    },
    {
      "cell_type": "markdown",
      "metadata": {
        "id": "r1a2t34Sj_4b"
      },
      "source": [
        "### 1-4. enumerate"
      ]
    },
    {
      "cell_type": "code",
      "metadata": {
        "id": "Eb3wJhDJj_4c",
        "colab": {
          "base_uri": "https://localhost:8080/"
        },
        "outputId": "fb5030a5-4710-47ec-9d8a-66e6bbbeb5d2"
      },
      "source": [
        "def my_enumerate(sequence, start=0):\n",
        "    num = start\n",
        "    for element in sequence:\n",
        "      yield num, element\n",
        "      num += 1\n",
        "\n",
        "test1 = [60, 50, 20, 10]\n",
        "test2 = [True, None, 'test']\n",
        "assert list(enumerate(test1)) == list(my_enumerate(test1))\n",
        "assert list(enumerate(test2, 12)) == list(my_enumerate(test2, 12))\n",
        "print(\"통과\")"
      ],
      "execution_count": null,
      "outputs": [
        {
          "output_type": "stream",
          "text": [
            "통과\n"
          ],
          "name": "stdout"
        }
      ]
    },
    {
      "cell_type": "markdown",
      "metadata": {
        "id": "6GhbhgNsj_4c"
      },
      "source": [
        "### 1-5. max & min"
      ]
    },
    {
      "cell_type": "code",
      "metadata": {
        "id": "CPb7b92Fj_4c",
        "colab": {
          "base_uri": "https://localhost:8080/"
        },
        "outputId": "69de5b65-cc1e-42c1-f851-cac6047dc064"
      },
      "source": [
        "def my_max(*args):\n",
        "    if isinstance(args[0], list):\n",
        "      temp = list(*args)\n",
        "    else:\n",
        "      temp = list(args)\n",
        "    e_max = temp[0]\n",
        "    for i in range(1, len(temp)):\n",
        "      if e_max < temp[i]:\n",
        "        e_max = temp[i]  \n",
        "    return e_max\n",
        "\n",
        "  \n",
        "def my_min(*args):\n",
        "    if isinstance(args[0], list):\n",
        "      temp = list(*args)\n",
        "    else:\n",
        "      temp = list(args)\n",
        "    e_min = temp[0]\n",
        "    for i in range(1, len(temp)):\n",
        "      if e_min > temp[i]:\n",
        "        e_min = temp[i]  \n",
        "    return e_min\n",
        "\n",
        "\n",
        "test = [7, 4, 2, 6, 8]\n",
        "assert max(test) == my_max(test) and min(test) == my_min(test)\n",
        "assert max(7, 4, 2, 5) == my_max(7, 4, 2, 5) and min(7, 4, 2, 5) == my_min(7, 4, 2, 5)\n",
        "print(\"통과\")"
      ],
      "execution_count": null,
      "outputs": [
        {
          "output_type": "stream",
          "text": [
            "통과\n"
          ],
          "name": "stdout"
        }
      ]
    },
    {
      "cell_type": "markdown",
      "metadata": {
        "id": "LYJx5t63j_4c"
      },
      "source": [
        "### 1-6. range\n",
        "실제론 함수가 아니지만 함수 같이 만들어보자."
      ]
    },
    {
      "cell_type": "code",
      "metadata": {
        "id": "z5liW1V-j_4d",
        "colab": {
          "base_uri": "https://localhost:8080/"
        },
        "outputId": "decab6ec-0960-45a0-d907-0721952c5682"
      },
      "source": [
        "def my_range(*args):\n",
        "    if len(args) == 3:\n",
        "      start = args[0]\n",
        "      stop = args[1]\n",
        "      step = args[2]\n",
        "    elif len(args) == 2:\n",
        "      start = args[0]\n",
        "      stop = args[1]\n",
        "      step = 1\n",
        "    else:\n",
        "      start = 0\n",
        "      stop = args[0]\n",
        "      step = 1\n",
        "\n",
        "    while start < stop:\n",
        "      yield start\n",
        "      start += step\n",
        "\n",
        "\n",
        "assert list(range(10)) == list(my_range(10))\n",
        "assert list(range(3, 10)) == list(my_range(3, 10))\n",
        "assert list(range(3, 10, 2)) == list(my_range(3, 10, 2))\n",
        "print(\"통과\")"
      ],
      "execution_count": null,
      "outputs": [
        {
          "output_type": "stream",
          "text": [
            "통과\n"
          ],
          "name": "stdout"
        }
      ]
    },
    {
      "cell_type": "markdown",
      "metadata": {
        "id": "Ki0TIFGij_4d"
      },
      "source": [
        "### 1-7. reversed"
      ]
    },
    {
      "cell_type": "code",
      "metadata": {
        "id": "omq-iRJsj_4d",
        "colab": {
          "base_uri": "https://localhost:8080/"
        },
        "outputId": "703c3099-580f-450d-8da5-1ba46f8a900a"
      },
      "source": [
        "def my_reversed(seq):\n",
        "    result = []\n",
        "    for element in seq:\n",
        "      result.insert(0, element)\n",
        "    return result\n",
        "\n",
        "test = [7, 4, 2, 6, 8]\n",
        "assert list(reversed(test)) == list(my_reversed(test))\n",
        "print(\"통과\")"
      ],
      "execution_count": null,
      "outputs": [
        {
          "output_type": "stream",
          "text": [
            "통과\n"
          ],
          "name": "stdout"
        }
      ]
    },
    {
      "cell_type": "markdown",
      "metadata": {
        "id": "EO1bxjI2j_4d"
      },
      "source": [
        "### 1-8. filter"
      ]
    },
    {
      "cell_type": "code",
      "metadata": {
        "id": "TN6rpi9bj_4d",
        "colab": {
          "base_uri": "https://localhost:8080/"
        },
        "outputId": "92273847-2b89-4725-c258-aad563a1bc90"
      },
      "source": [
        "def my_filter(function, iterable):\n",
        "    for element in iterable:\n",
        "      if function(element):\n",
        "        yield element\n",
        "\n",
        "def test_function(number):\n",
        "    return number > 5\n",
        "\n",
        "test = [1, 7, 5, 2, 9, 11]\n",
        "\n",
        "# 역슬래시 \"\\\"를 이용하면 평가식을 다음 줄로 나눌 수 있다.\n",
        "assert list(filter(test_function, test)) == list(my_filter(test_function, test)) \\\n",
        "    == list(filter(lambda x: x > 5, test))\n",
        "print(\"통과\")"
      ],
      "execution_count": null,
      "outputs": [
        {
          "output_type": "stream",
          "text": [
            "통과\n"
          ],
          "name": "stdout"
        }
      ]
    },
    {
      "cell_type": "markdown",
      "metadata": {
        "id": "TFRcIgaej_4e"
      },
      "source": [
        "### 1-9. sum"
      ]
    },
    {
      "cell_type": "code",
      "metadata": {
        "id": "OBMnyE-Jj_4e",
        "colab": {
          "base_uri": "https://localhost:8080/"
        },
        "outputId": "441181a8-5301-4d21-a3c4-8be71920e164"
      },
      "source": [
        "def my_sum(iterable, start=0):\n",
        "    result = 0\n",
        "    for element in iterable:\n",
        "      result += element\n",
        "    return result\n",
        "\n",
        "test = [7, 4, 2, 6, 8]\n",
        "assert sum(test) == my_sum(test)\n",
        "assert sum(range(10)) == my_sum(my_range(10))\n",
        "assert sum(filter(lambda x: x % 2, range(1, 20, 3))) \\\n",
        "    == my_sum(my_filter(lambda x: x % 2, my_range(1, 20, 3)))\n",
        "print(\"통과\")"
      ],
      "execution_count": null,
      "outputs": [
        {
          "output_type": "stream",
          "text": [
            "통과\n"
          ],
          "name": "stdout"
        }
      ]
    },
    {
      "cell_type": "markdown",
      "metadata": {
        "id": "ECrWOlnjj_4e"
      },
      "source": [
        "### 1-10. zip"
      ]
    },
    {
      "cell_type": "code",
      "metadata": {
        "id": "TFQnbWW1j_4e",
        "colab": {
          "base_uri": "https://localhost:8080/"
        },
        "outputId": "266aa4a5-6fc0-42ab-c410-a9d2c7924e90"
      },
      "source": [
        "def my_zip(*iterables):\n",
        "    sentinel = object()\n",
        "    iterators = [iter(it) for it in iterables]\n",
        "    while iterators:\n",
        "        result = []\n",
        "        for it in iterators:\n",
        "            element = next(it, sentinel)\n",
        "            if element is sentinel:\n",
        "                return\n",
        "            result.append(element)\n",
        "        yield tuple(result)\n",
        "\n",
        "test1 = (1, 2, 3)\n",
        "test2 = (10, 2, 30)\n",
        "assert list(zip(test1, test2)) == list(my_zip(test1, test2))\n",
        "\n",
        "test3 = [(10, 20, 30, 40), (55, 22, 66, 70), (False, True, True, False)]\n",
        "assert list(zip(*test3)) == list(my_zip(*test3))\n",
        "print(\"통과\")"
      ],
      "execution_count": null,
      "outputs": [
        {
          "output_type": "stream",
          "text": [
            "통과\n"
          ],
          "name": "stdout"
        }
      ]
    },
    {
      "cell_type": "markdown",
      "metadata": {
        "id": "Gm9742vej_4e"
      },
      "source": [
        "### 1-11. sorted\n",
        "정렬 알고리즘은 어떠한 것을 써도 무방하다.\n",
        "쉬운 정렬 알고리즘으로 일반적으로 [삽입정렬](https://ko.wikipedia.org/wiki/%EC%82%BD%EC%9E%85_%EC%A0%95%EB%A0%AC), [선택정렬](https://ko.wikipedia.org/wiki/%EC%84%A0%ED%83%9D_%EC%A0%95%EB%A0%AC), 그리고 [버블정렬](https://ko.wikipedia.org/wiki/%EA%B1%B0%ED%92%88_%EC%A0%95%EB%A0%AC)을 꼽는다."
      ]
    },
    {
      "cell_type": "code",
      "metadata": {
        "id": "h3fKPQodj_4f",
        "colab": {
          "base_uri": "https://localhost:8080/",
          "height": 239
        },
        "outputId": "67e7ba8e-c8e0-434b-cfdb-5ff339afa525"
      },
      "source": [
        "def my_sorted(iterable, key=None, reverse=False):\n",
        "    if not reverse:\n",
        "      length = len(iterable) - 1\n",
        "      for i in range(length):\n",
        "        for j in range(length-i):\n",
        "          if iterable[j] > iterable[j+1]:\n",
        "            iterable[j], iterable[j+1] = iterable[j+1], iterable[j]\n",
        "      return iterable\n",
        "    else:\n",
        "      length = len(iterable) - 1\n",
        "      for i in range(length):\n",
        "        for j in range(length-i):\n",
        "          if iterable[j] < iterable[j+1]:\n",
        "            iterable[j], iterable[j+1] = iterable[j+1], iterable[j]\n",
        "      return iterable\n",
        "\n",
        "\n",
        "\n",
        "test1 = [7, 4, 2, 6, 8]\n",
        "\n",
        "assert sorted(test1) == my_sorted(test1)\n",
        "test2 = [(1, 2), (6, 2), (5, 3), (10, 5)]\n",
        "\n",
        "assert sorted(test2) == my_sorted(test2) \\\n",
        "   and sorted(test2, reverse=True) == my_sorted(test2, reverse=True) \\\n",
        "   and sorted(test2, key=lambda x: x[1]) == my_sorted(test2, key=lambda x: x[1])\n",
        "print(\"통과\")"
      ],
      "execution_count": 45,
      "outputs": [
        {
          "output_type": "error",
          "ename": "AssertionError",
          "evalue": "ignored",
          "traceback": [
            "\u001b[0;31m---------------------------------------------------------------------------\u001b[0m",
            "\u001b[0;31mAssertionError\u001b[0m                            Traceback (most recent call last)",
            "\u001b[0;32m<ipython-input-45-86871cdb5d61>\u001b[0m in \u001b[0;36m<module>\u001b[0;34m()\u001b[0m\n\u001b[1;32m     22\u001b[0m \u001b[0mtest2\u001b[0m \u001b[0;34m=\u001b[0m \u001b[0;34m[\u001b[0m\u001b[0;34m(\u001b[0m\u001b[0;36m1\u001b[0m\u001b[0;34m,\u001b[0m \u001b[0;36m2\u001b[0m\u001b[0;34m)\u001b[0m\u001b[0;34m,\u001b[0m \u001b[0;34m(\u001b[0m\u001b[0;36m6\u001b[0m\u001b[0;34m,\u001b[0m \u001b[0;36m2\u001b[0m\u001b[0;34m)\u001b[0m\u001b[0;34m,\u001b[0m \u001b[0;34m(\u001b[0m\u001b[0;36m5\u001b[0m\u001b[0;34m,\u001b[0m \u001b[0;36m3\u001b[0m\u001b[0;34m)\u001b[0m\u001b[0;34m,\u001b[0m \u001b[0;34m(\u001b[0m\u001b[0;36m10\u001b[0m\u001b[0;34m,\u001b[0m \u001b[0;36m5\u001b[0m\u001b[0;34m)\u001b[0m\u001b[0;34m]\u001b[0m\u001b[0;34m\u001b[0m\u001b[0;34m\u001b[0m\u001b[0m\n\u001b[1;32m     23\u001b[0m \u001b[0;34m\u001b[0m\u001b[0m\n\u001b[0;32m---> 24\u001b[0;31m \u001b[0;32massert\u001b[0m \u001b[0msorted\u001b[0m\u001b[0;34m(\u001b[0m\u001b[0mtest2\u001b[0m\u001b[0;34m)\u001b[0m \u001b[0;34m==\u001b[0m \u001b[0mmy_sorted\u001b[0m\u001b[0;34m(\u001b[0m\u001b[0mtest2\u001b[0m\u001b[0;34m)\u001b[0m    \u001b[0;32mand\u001b[0m \u001b[0msorted\u001b[0m\u001b[0;34m(\u001b[0m\u001b[0mtest2\u001b[0m\u001b[0;34m,\u001b[0m \u001b[0mreverse\u001b[0m\u001b[0;34m=\u001b[0m\u001b[0;32mTrue\u001b[0m\u001b[0;34m)\u001b[0m \u001b[0;34m==\u001b[0m \u001b[0mmy_sorted\u001b[0m\u001b[0;34m(\u001b[0m\u001b[0mtest2\u001b[0m\u001b[0;34m,\u001b[0m \u001b[0mreverse\u001b[0m\u001b[0;34m=\u001b[0m\u001b[0;32mTrue\u001b[0m\u001b[0;34m)\u001b[0m    \u001b[0;32mand\u001b[0m \u001b[0msorted\u001b[0m\u001b[0;34m(\u001b[0m\u001b[0mtest2\u001b[0m\u001b[0;34m,\u001b[0m \u001b[0mkey\u001b[0m\u001b[0;34m=\u001b[0m\u001b[0;32mlambda\u001b[0m \u001b[0mx\u001b[0m\u001b[0;34m:\u001b[0m \u001b[0mx\u001b[0m\u001b[0;34m[\u001b[0m\u001b[0;36m1\u001b[0m\u001b[0;34m]\u001b[0m\u001b[0;34m)\u001b[0m \u001b[0;34m==\u001b[0m \u001b[0mmy_sorted\u001b[0m\u001b[0;34m(\u001b[0m\u001b[0mtest2\u001b[0m\u001b[0;34m,\u001b[0m \u001b[0mkey\u001b[0m\u001b[0;34m=\u001b[0m\u001b[0;32mlambda\u001b[0m \u001b[0mx\u001b[0m\u001b[0;34m:\u001b[0m \u001b[0mx\u001b[0m\u001b[0;34m[\u001b[0m\u001b[0;36m1\u001b[0m\u001b[0;34m]\u001b[0m\u001b[0;34m)\u001b[0m\u001b[0;34m\u001b[0m\u001b[0;34m\u001b[0m\u001b[0m\n\u001b[0m\u001b[1;32m     25\u001b[0m \u001b[0mprint\u001b[0m\u001b[0;34m(\u001b[0m\u001b[0;34m\"통과\"\u001b[0m\u001b[0;34m)\u001b[0m\u001b[0;34m\u001b[0m\u001b[0;34m\u001b[0m\u001b[0m\n",
            "\u001b[0;31mAssertionError\u001b[0m: "
          ]
        }
      ]
    },
    {
      "cell_type": "markdown",
      "metadata": {
        "id": "FgiQdO2Gj_4f"
      },
      "source": [
        "## 2. 알고리즘 함수 만들기\n",
        "몇 가지 간단한 알고리즘 함수를 만들어보자.\n",
        "\n",
        "### 2-1. 피보나치 수열 만들기\n",
        "숫자 $N$가 주어졌을때,다피보나치 길이 $N$의 피보나치 수열을 생성하는 함수를 작성해보자. 시작은 1부터다."
      ]
    },
    {
      "cell_type": "code",
      "metadata": {
        "id": "SathO3raj_4f",
        "colab": {
          "base_uri": "https://localhost:8080/"
        },
        "outputId": "deaabef6-1317-4457-ec87-878dfe2b3df3"
      },
      "source": [
        "def fibonacci(number):\n",
        "    a, b = 1, 1\n",
        "    for i in range(number):\n",
        "      yield a\n",
        "      a, b = b, a + b\n",
        "  \n",
        "assert list(fibonacci(10)) == [1, 1, 2, 3, 5, 8, 13, 21, 34, 55]\n",
        "assert sum(fibonacci(5)) == 12\n",
        "print(\"통과\") "
      ],
      "execution_count": null,
      "outputs": [
        {
          "output_type": "stream",
          "text": [
            "통과\n"
          ],
          "name": "stdout"
        }
      ]
    },
    {
      "cell_type": "markdown",
      "metadata": {
        "id": "qbdm9l5pj_4f"
      },
      "source": [
        "### 2-2. 순열 만들기\n",
        "수열 $S$가 주어졌을때 그 안에서 $N$를 뽑아 순열을 만드는 함수를 작성해보자. 순서는 상관없다. \\\n",
        "(힌트: 재귀 함수를 써보자)"
      ]
    },
    {
      "cell_type": "code",
      "metadata": {
        "id": "r9qXLBcXj_4f",
        "colab": {
          "base_uri": "https://localhost:8080/",
          "height": 222
        },
        "outputId": "3f99bf92-6de7-498c-e0da-ce84595bd86c"
      },
      "source": [
        "def my_permutations(seq, number):\n",
        "    pass\n",
        "    # TypeError: unhashable type: 'list' 발생\n",
        "    # for i in range(len(seq)):\n",
        "    #     if number == 1:\n",
        "    #         yield [seq[i]]\n",
        "    #     else:\n",
        "    #         for next in my_permutations(seq[:i]+seq[i+1:], number-1):\n",
        "    #             yield [seq[i]] + next\n",
        "\n",
        "\n",
        "    \n",
        "\n",
        "from itertools import permutations\n",
        "test = [1, 2, 3, 4]\n",
        "\n",
        "assert set(permutations(test, 2)) == set(my_permutations(test, 2)) \\\n",
        "   and set(permutations(test, 3)) == set(my_permutations(test, 3))\n",
        "print(\"통과\") "
      ],
      "execution_count": 43,
      "outputs": [
        {
          "output_type": "error",
          "ename": "TypeError",
          "evalue": "ignored",
          "traceback": [
            "\u001b[0;31m---------------------------------------------------------------------------\u001b[0m",
            "\u001b[0;31mTypeError\u001b[0m                                 Traceback (most recent call last)",
            "\u001b[0;32m<ipython-input-43-bcd8587b8f6e>\u001b[0m in \u001b[0;36m<module>\u001b[0;34m()\u001b[0m\n\u001b[1;32m     15\u001b[0m \u001b[0mtest\u001b[0m \u001b[0;34m=\u001b[0m \u001b[0;34m[\u001b[0m\u001b[0;36m1\u001b[0m\u001b[0;34m,\u001b[0m \u001b[0;36m2\u001b[0m\u001b[0;34m,\u001b[0m \u001b[0;36m3\u001b[0m\u001b[0;34m,\u001b[0m \u001b[0;36m4\u001b[0m\u001b[0;34m]\u001b[0m\u001b[0;34m\u001b[0m\u001b[0;34m\u001b[0m\u001b[0m\n\u001b[1;32m     16\u001b[0m \u001b[0;34m\u001b[0m\u001b[0m\n\u001b[0;32m---> 17\u001b[0;31m \u001b[0;32massert\u001b[0m \u001b[0mset\u001b[0m\u001b[0;34m(\u001b[0m\u001b[0mpermutations\u001b[0m\u001b[0;34m(\u001b[0m\u001b[0mtest\u001b[0m\u001b[0;34m,\u001b[0m \u001b[0;36m2\u001b[0m\u001b[0;34m)\u001b[0m\u001b[0;34m)\u001b[0m \u001b[0;34m==\u001b[0m \u001b[0mset\u001b[0m\u001b[0;34m(\u001b[0m\u001b[0mmy_permutations\u001b[0m\u001b[0;34m(\u001b[0m\u001b[0mtest\u001b[0m\u001b[0;34m,\u001b[0m \u001b[0;36m2\u001b[0m\u001b[0;34m)\u001b[0m\u001b[0;34m)\u001b[0m    \u001b[0;32mand\u001b[0m \u001b[0mset\u001b[0m\u001b[0;34m(\u001b[0m\u001b[0mpermutations\u001b[0m\u001b[0;34m(\u001b[0m\u001b[0mtest\u001b[0m\u001b[0;34m,\u001b[0m \u001b[0;36m3\u001b[0m\u001b[0;34m)\u001b[0m\u001b[0;34m)\u001b[0m \u001b[0;34m==\u001b[0m \u001b[0mset\u001b[0m\u001b[0;34m(\u001b[0m\u001b[0mmy_permutations\u001b[0m\u001b[0;34m(\u001b[0m\u001b[0mtest\u001b[0m\u001b[0;34m,\u001b[0m \u001b[0;36m3\u001b[0m\u001b[0;34m)\u001b[0m\u001b[0;34m)\u001b[0m\u001b[0;34m\u001b[0m\u001b[0;34m\u001b[0m\u001b[0m\n\u001b[0m\u001b[1;32m     18\u001b[0m \u001b[0mprint\u001b[0m\u001b[0;34m(\u001b[0m\u001b[0;34m\"통과\"\u001b[0m\u001b[0;34m)\u001b[0m\u001b[0;34m\u001b[0m\u001b[0;34m\u001b[0m\u001b[0m\n",
            "\u001b[0;31mTypeError\u001b[0m: 'NoneType' object is not iterable"
          ]
        }
      ]
    },
    {
      "cell_type": "markdown",
      "metadata": {
        "id": "laEqDZNsj_4g"
      },
      "source": [
        "### 2-3. 조합 만들기\n",
        "수열 $S$가 주어졌을때 그 안에서 $N$를 뽑아 조합을 만드는 함수를 작성해보자. 순서는 상관없다. \\\n",
        "(힌트: 재귀 함수를 써보자)"
      ]
    },
    {
      "cell_type": "code",
      "metadata": {
        "id": "CJer6T7Nj_4g",
        "colab": {
          "base_uri": "https://localhost:8080/",
          "height": 222
        },
        "outputId": "4f8b7484-06e5-4529-fb22-78e818424ee2"
      },
      "source": [
        "def my_combinations(seq, number):\n",
        "    pass\n",
        "    # TypeError: unhashable type: 'list' 발생\n",
        "    # for i in range(len(seq)):\n",
        "    #   if number == 1:\n",
        "    #     yield [seq[i]]\n",
        "    #   else:\n",
        "    #     for j in my_combinations(seq[i+1:], number-1):\n",
        "    #       yield [seq[i]] + j\n",
        "\n",
        "from itertools import combinations\n",
        "test = [1, 2, 3, 4]\n",
        "\n",
        "assert set(combinations(test, 2)) == set(my_combinations(test, 2)) \\\n",
        "   and set(combinations(test, 3)) == set(my_combinations(test, 3))\n",
        "print(\"통과\") "
      ],
      "execution_count": 42,
      "outputs": [
        {
          "output_type": "error",
          "ename": "TypeError",
          "evalue": "ignored",
          "traceback": [
            "\u001b[0;31m---------------------------------------------------------------------------\u001b[0m",
            "\u001b[0;31mTypeError\u001b[0m                                 Traceback (most recent call last)",
            "\u001b[0;32m<ipython-input-42-937dab28db4b>\u001b[0m in \u001b[0;36m<module>\u001b[0;34m()\u001b[0m\n\u001b[1;32m     12\u001b[0m \u001b[0mtest\u001b[0m \u001b[0;34m=\u001b[0m \u001b[0;34m[\u001b[0m\u001b[0;36m1\u001b[0m\u001b[0;34m,\u001b[0m \u001b[0;36m2\u001b[0m\u001b[0;34m,\u001b[0m \u001b[0;36m3\u001b[0m\u001b[0;34m,\u001b[0m \u001b[0;36m4\u001b[0m\u001b[0;34m]\u001b[0m\u001b[0;34m\u001b[0m\u001b[0;34m\u001b[0m\u001b[0m\n\u001b[1;32m     13\u001b[0m \u001b[0;34m\u001b[0m\u001b[0m\n\u001b[0;32m---> 14\u001b[0;31m \u001b[0;32massert\u001b[0m \u001b[0mset\u001b[0m\u001b[0;34m(\u001b[0m\u001b[0mcombinations\u001b[0m\u001b[0;34m(\u001b[0m\u001b[0mtest\u001b[0m\u001b[0;34m,\u001b[0m \u001b[0;36m2\u001b[0m\u001b[0;34m)\u001b[0m\u001b[0;34m)\u001b[0m \u001b[0;34m==\u001b[0m \u001b[0mset\u001b[0m\u001b[0;34m(\u001b[0m\u001b[0mmy_combinations\u001b[0m\u001b[0;34m(\u001b[0m\u001b[0mtest\u001b[0m\u001b[0;34m,\u001b[0m \u001b[0;36m2\u001b[0m\u001b[0;34m)\u001b[0m\u001b[0;34m)\u001b[0m    \u001b[0;32mand\u001b[0m \u001b[0mset\u001b[0m\u001b[0;34m(\u001b[0m\u001b[0mcombinations\u001b[0m\u001b[0;34m(\u001b[0m\u001b[0mtest\u001b[0m\u001b[0;34m,\u001b[0m \u001b[0;36m3\u001b[0m\u001b[0;34m)\u001b[0m\u001b[0;34m)\u001b[0m \u001b[0;34m==\u001b[0m \u001b[0mset\u001b[0m\u001b[0;34m(\u001b[0m\u001b[0mmy_combinations\u001b[0m\u001b[0;34m(\u001b[0m\u001b[0mtest\u001b[0m\u001b[0;34m,\u001b[0m \u001b[0;36m3\u001b[0m\u001b[0;34m)\u001b[0m\u001b[0;34m)\u001b[0m\u001b[0;34m\u001b[0m\u001b[0;34m\u001b[0m\u001b[0m\n\u001b[0m\u001b[1;32m     15\u001b[0m \u001b[0mprint\u001b[0m\u001b[0;34m(\u001b[0m\u001b[0;34m\"통과\"\u001b[0m\u001b[0;34m)\u001b[0m\u001b[0;34m\u001b[0m\u001b[0;34m\u001b[0m\u001b[0m\n",
            "\u001b[0;31mTypeError\u001b[0m: 'NoneType' object is not iterable"
          ]
        }
      ]
    }
  ]
}